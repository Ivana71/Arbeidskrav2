{
 "cells": [
  {
   "cell_type": "code",
   "execution_count": 1,
   "id": "b4a57fd6-f1bc-4519-81c0-b3488d560fc6",
   "metadata": {},
   "outputs": [
    {
     "name": "stdin",
     "output_type": "stream",
     "text": [
      "Hvilket år er du født?  1984\n"
     ]
    },
    {
     "name": "stdout",
     "output_type": "stream",
     "text": [
      "Du vil være 40 år gammel i 2024.\n"
     ]
    }
   ],
   "source": [
    "# Oppgave 1\n",
    "#Skriv året når du ble født\n",
    "alder = int(input('Hvilket år er du født? '))\n",
    "\n",
    "# Finn ut alderen i 2024\n",
    "alder_i_2024 = 2024 - alder\n",
    "\n",
    "# Skriv ut resultatet\n",
    "print(f\"Du vil være {alder_i_2024} år gammel i 2024.\")\n"
   ]
  },
  {
   "cell_type": "code",
   "execution_count": 3,
   "id": "2c14a1be-aab3-45b7-b08d-24bcf1ea7a0d",
   "metadata": {},
   "outputs": [
    {
     "name": "stdin",
     "output_type": "stream",
     "text": [
      "Skriv inn antall elever:  33\n"
     ]
    },
    {
     "name": "stdout",
     "output_type": "stream",
     "text": [
      "Det må handles inn 9 pizza(er) til festen.\n"
     ]
    }
   ],
   "source": [
    "#Oppgave 2 hvor mange pizzaer som skal handles til en klassefest, basert på antallet elever. \n",
    "\n",
    "#  antall elever\n",
    "antall_elever = int(input('Skriv inn antall elever: '))\n",
    "\n",
    "# Hver elev spiser 1/4 pizza\n",
    "pizzaer_trengs = antall_elever / 4\n",
    "\n",
    "#  runde opp til nærmeste hele tall\n",
    "import math\n",
    "pizzaer_trengs = math.ceil(pizzaer_trengs)\n",
    "\n",
    "# Skriv ut antall pizzaer som trengs\n",
    "print(f\"Det må handles inn {pizzaer_trengs} pizza(er) til festen.\")"
   ]
  },
  {
   "cell_type": "code",
   "execution_count": 5,
   "id": "216076c9-e75a-47f6-a0b3-1f31435c30c0",
   "metadata": {},
   "outputs": [
    {
     "name": "stdin",
     "output_type": "stream",
     "text": [
      "Skriv inn gradtallet:  71\n"
     ]
    },
    {
     "name": "stdout",
     "output_type": "stream",
     "text": [
      "71.0 grader er 1.239183768915974 radianer.\n"
     ]
    }
   ],
   "source": [
    "#oppgave 3 lag et program med en funksjon som regner om fra grader til radianer\n",
    "\n",
    "import numpy as np\n",
    "v_grad = float(input('Skriv inn gradtallet: '))\n",
    "v_rad = v_grad * np.pi / 180\n",
    "\n",
    "\n",
    "# Skriv ut resultatet\n",
    "print(f\"{v_grad} grader er {v_rad} radianer.\")\n"
   ]
  },
  {
   "cell_type": "code",
   "execution_count": 7,
   "id": "c4571924-bf60-4cf7-bc71-bd99eb4d023e",
   "metadata": {},
   "outputs": [],
   "source": [
    "#oppgave 4 \n",
    "#a)\n",
    "data = {\n",
    "    \"Norge\": [\"Oslo\", 0.634],\n",
    "    \"England\": [\"London\", 8.982],\n",
    "    \"Frankrike\": [\"Paris\", 2.161],\n",
    "    \"Italia\": [\"Roma\", 2.873]\n",
    "}"
   ]
  },
  {
   "cell_type": "code",
   "execution_count": 11,
   "id": "0fba7cea-44cf-4907-814b-08381698d30e",
   "metadata": {},
   "outputs": [
    {
     "name": "stdin",
     "output_type": "stream",
     "text": [
      "Skriv inn et land:  Kroatia\n"
     ]
    },
    {
     "name": "stdout",
     "output_type": "stream",
     "text": [
      "Kroatia finnes ikke i vår database.\n"
     ]
    }
   ],
   "source": [
    "#b \n",
    "# Opprett dictionary med informasjon om land, hovedsteder og innbyggere i millioner\n",
    "data = {\n",
    "    \"Norge\": [\"Oslo\", 0.634],\n",
    "    \"England\": [\"London\", 8.982],\n",
    "    \"Frankrike\": [\"Paris\", 2.161],\n",
    "    \"Italia\": [\"Roma\", 2.873]\n",
    "}\n",
    "# Be brukeren om å skrive inn et land\n",
    "land = input('Skriv inn et land: ')\n",
    "\n",
    "# Sjekk om landet finnes i dictionaryen\n",
    "if land in data:\n",
    "    hovedstad = data[land][0]\n",
    "    innbyggere = data[land][1]\n",
    "    print(f\"{hovedstad} er hovedstaden i {land} og det er {innbyggere} mill. innbyggere i {hovedstad}.\")\n",
    "else:\n",
    "    print(f\"{land} finnes ikke i vår database.\")\n"
   ]
  },
  {
   "cell_type": "code",
   "execution_count": 13,
   "id": "647401c6-5dcb-4d62-8fc6-ba00d1035c4b",
   "metadata": {},
   "outputs": [
    {
     "name": "stdin",
     "output_type": "stream",
     "text": [
      "Skriv inn et nytt land:  Kroatia\n",
      "Hva er hovedstaden i dette landet?  Zagreb\n",
      "Hvor mange millioner innbyggere har Zagreb?  0.771\n"
     ]
    },
    {
     "name": "stdout",
     "output_type": "stream",
     "text": [
      "\n",
      "Oppdatert informasjon:\n",
      "Oslo er hovedstaden i Norge og det er 0.634 mill. innbyggere i Oslo.\n",
      "London er hovedstaden i England og det er 8.982 mill. innbyggere i London.\n",
      "Paris er hovedstaden i Frankrike og det er 2.161 mill. innbyggere i Paris.\n",
      "Roma er hovedstaden i Italia og det er 2.873 mill. innbyggere i Roma.\n",
      "Zagreb er hovedstaden i Kroatia og det er 0.771 mill. innbyggere i Zagreb.\n"
     ]
    }
   ],
   "source": [
    "# Be brukeren om å skrive inn et nytt land\n",
    "nytt_land = input('Skriv inn et nytt land: ')\n",
    "\n",
    "# Be om hovedstad og antall innbyggere i millioner\n",
    "hovedstad = input('Hva er hovedstaden i dette landet? ')\n",
    "innbyggere = 2(input(f'Hvor mange millioner innbyggere har {hovedstad}? '))\n",
    "\n",
    "# Legg til det nye landet i dictionaryen\n",
    "data[nytt_land] = [hovedstad, innbyggere]\n",
    "\n",
    "# Skriv ut den oppdaterte dictionaryen\n",
    "print(\"\\nOppdatert informasjon:\")\n",
    "for land, info in data.items():\n",
    "    print(f\"{info[0]} er hovedstaden i {land} og det er {info[1]} mill. innbyggere i {info[0]}.\")\n"
   ]
  },
  {
   "cell_type": "code",
   "execution_count": 15,
   "id": "310b6c81-ae29-4ada-8523-e755b3807375",
   "metadata": {},
   "outputs": [
    {
     "name": "stdin",
     "output_type": "stream",
     "text": [
      "Skriv inn lengden på a:  2\n",
      "Skriv inn lengden på b:  3\n"
     ]
    },
    {
     "ename": "TypeError",
     "evalue": "unsupported operand type(s) for /: 'str' and 'int'",
     "output_type": "error",
     "traceback": [
      "\u001b[1;31m---------------------------------------------------------------------------\u001b[0m",
      "\u001b[1;31mTypeError\u001b[0m                                 Traceback (most recent call last)",
      "Cell \u001b[1;32mIn[15], line 9\u001b[0m\n\u001b[0;32m      6\u001b[0m a \u001b[38;5;241m=\u001b[39m \u001b[38;5;28minput\u001b[39m(\u001b[38;5;124m\"\u001b[39m\u001b[38;5;124mSkriv inn lengden på a: \u001b[39m\u001b[38;5;124m\"\u001b[39m)\n\u001b[0;32m      7\u001b[0m b \u001b[38;5;241m=\u001b[39m \u001b[38;5;28minput\u001b[39m(\u001b[38;5;124m\"\u001b[39m\u001b[38;5;124mSkriv inn lengden på b: \u001b[39m\u001b[38;5;124m\"\u001b[39m)\n\u001b[1;32m----> 9\u001b[0m radius \u001b[38;5;241m=\u001b[39m a \u001b[38;5;241m/\u001b[39m \u001b[38;5;241m2\u001b[39m\n\u001b[0;32m     11\u001b[0m omkrets_sirkel\u001b[38;5;241m=\u001b[39m\u001b[38;5;241m2\u001b[39m\u001b[38;5;241m*\u001b[39mpi\u001b[38;5;241m*\u001b[39mradius\n\u001b[0;32m     12\u001b[0m omkrets_halvsirkel\u001b[38;5;241m=\u001b[39momkrets_sirkel\u001b[38;5;241m/\u001b[39m\u001b[38;5;241m2\u001b[39m\n",
      "\u001b[1;31mTypeError\u001b[0m: unsupported operand type(s) for /: 'str' and 'int'"
     ]
    }
   ],
   "source": [
    "#oppgave 5\n",
    "import numpy as np\n",
    "import math\n",
    "from math import pi\n",
    "\n",
    "a = input(\"Skriv inn lengden på a: \")\n",
    "b = input(\"Skriv inn lengden på b: \")\n",
    "\n",
    "radius = a / 2\n",
    "\n",
    "omkrets_sirkel=2*pi*radius\n",
    "omkrets_halvsirkel=omkrets_sirkel/2\n",
    "c=math.sqrt(a**2 + b**2)\n",
    "omkrets_spis=c+b\n",
    "omkrets_figur=omkrets_halvsirkel+omkrets_spis\n",
    "\n",
    "areal_halvsirkel=(radius**2)*pi/2\n",
    "areal_trekant=(a*b)/2\n",
    "areal_total=areal_halvsirkel+areal_trekant\n",
    "\n",
    "print(f'Figurens omkrets er : {omkrets_figur:.2f} og areal er {areal_total:.2f}')"
   ]
  },
  {
   "cell_type": "code",
   "execution_count": 17,
   "id": "a31f222c-65f5-4370-a218-4720166b56be",
   "metadata": {},
   "outputs": [
    {
     "name": "stdin",
     "output_type": "stream",
     "text": [
      "Skriv inn lengden på a:  4\n",
      "Skriv inn lengden på b:  5\n"
     ]
    },
    {
     "name": "stdout",
     "output_type": "stream",
     "text": [
      "Figurens omkrets er : 17.69 og areal er 16.28\n"
     ]
    }
   ],
   "source": [
    "#oppgave 5\n",
    "import math\n",
    "from math import pi\n",
    "\n",
    "a = float (input(\"Skriv inn lengden på a: \"))\n",
    "b = float(input(\"Skriv inn lengden på b: \"))\n",
    "\n",
    "\n",
    "\n",
    "omkrets_halvsirkel=pi*(a/2)\n",
    "\n",
    "c=math.sqrt(a**2 + b**2)\n",
    "omkrets_spis=c+b\n",
    "omkrets_figur=omkrets_halvsirkel+omkrets_spis\n",
    "\n",
    "areal_halvsirkel=((a/2)**2)*pi/2\n",
    "areal_trekant=(a*b)/2\n",
    "areal_total=areal_halvsirkel+areal_trekant\n",
    "\n",
    "print(f'Figurens omkrets er : {omkrets_figur:.2f} og areal er {areal_total:.2f}')"
   ]
  },
  {
   "cell_type": "code",
   "execution_count": 19,
   "id": "792d5da8-4442-4cb1-92bc-880961f8b112",
   "metadata": {},
   "outputs": [
    {
     "data": {
      "image/png": "[encoded data removed]",
      "text/plain": [
       "<Figure size 640x480 with 1 Axes>"
      ]
     },
     "metadata": {},
     "output_type": "display_data"
    }
   ],
   "source": [
    "#oppgave 6\n",
    "import numpy as np\n",
    "import matplotlib.pyplot as plt\n",
    "\n",
    "\n",
    "x = np.linspace(-10, 10, 200)\n",
    "\n",
    "y = -x**2 - 5\n",
    "\n",
    "plt.plot(x, y, label=r'$f(x) = -x^2 - 5$', color='b')  \n",
    "plt.title('Plot av funksjonen $f(x) = -x^2 - 5$')  \n",
    "plt.xlabel('x') \n",
    "plt.ylabel('f(x)')  \n",
    "plt.grid()  \n",
    "plt.axhline(0, color='black',linewidth=1)  \n",
    "plt.axvline(0, color='black',linewidth=1)  \n",
    "plt.legend() \n",
    "plt.show()  "
   ]
  },
  {
   "cell_type": "code",
   "execution_count": null,
   "id": "e07f09cb-9cc8-478f-9cf5-423185c255c6",
   "metadata": {},
   "outputs": [],
   "source": []
  }
 ],
 "metadata": {
  "kernelspec": {
   "display_name": "Python 3 (ipykernel)",
   "language": "python",
   "name": "python3"
  },
  "language_info": {
   "codemirror_mode": {
    "name": "ipython",
    "version": 3
   },
   "file_extension": ".py",
   "mimetype": "text/x-python",
   "name": "python",
   "nbconvert_exporter": "python",
   "pygments_lexer": "ipython3",
   "version": "3.12.7"
  }
 },
 "nbformat": 4,
 "nbformat_minor": 5
}
